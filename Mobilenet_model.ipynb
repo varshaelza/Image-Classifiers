{
 "cells": [
  {
   "cell_type": "code",
   "execution_count": 1,
   "metadata": {},
   "outputs": [],
   "source": [
    "import tensorflow as tf"
   ]
  },
  {
   "cell_type": "code",
   "execution_count": 23,
   "metadata": {},
   "outputs": [],
   "source": [
    "import numpy as np\n"
   ]
  },
  {
   "cell_type": "code",
   "execution_count": 24,
   "metadata": {},
   "outputs": [],
   "source": [
    "from keras.applications.mobilenet import MobileNet"
   ]
  },
  {
   "cell_type": "code",
   "execution_count": 16,
   "metadata": {},
   "outputs": [],
   "source": [
    "from keras.applications.mobilenet import MobileNet\n",
    "from keras.layers import GlobalAveragePooling2D, Dense, Dropout, Flatten, BatchNormalization\n",
    "from keras.models import Sequential\n",
    "def model():\n",
    "    base_mobilenet_model = MobileNet(input_shape = (300,300,3), \n",
    "                                     include_top = False, \n",
    "                                     weights = None)\n",
    "    base_model = Sequential()\n",
    "    base_model.add(BatchNormalization(input_shape = (300,300,3)))\n",
    "    base_model.add(base_mobilenet_model)\n",
    "    base_model.add(BatchNormalization())\n",
    "    base_model.add(GlobalAveragePooling2D())\n",
    "    base_model.add(Dropout(0.5))\n",
    "    base_model.add(Dense(2, activation = 'linear' )) # linear is what 16bit did\n",
    "    base_model.compile(optimizer = 'adam', loss='categorical_crossentropy', metrics=['accuracy'] )\n",
    "    base_model.summary()\n",
    "    return base_model"
   ]
  },
  {
   "cell_type": "code",
   "execution_count": 9,
   "metadata": {},
   "outputs": [
    {
     "name": "stdout",
     "output_type": "stream",
     "text": [
      "Found 136 images belonging to 2 classes.\n",
      "Found 20 images belonging to 2 classes.\n"
     ]
    }
   ],
   "source": [
    "from keras.preprocessing.image import ImageDataGenerator\n",
    "gen = ImageDataGenerator(rescale=1.0/255.0)\n",
    "train_it=gen.flow_from_directory('V:\\\\V_Drive\\\\DATA\\\\liver_binary/train/',\n",
    "\t\tclass_mode='categorical',classes=['abnormal','normal'], batch_size=5, target_size=(300, 300))\n",
    "\n",
    "test_it = gen.flow_from_directory('V:\\\\V_Drive\\\\DATA\\\\liver_binary/test/',\n",
    "\t\tclass_mode='categorical',classes=['abnormal','normal'], batch_size=5, target_size=(300, 300))"
   ]
  },
  {
   "cell_type": "code",
   "execution_count": 17,
   "metadata": {},
   "outputs": [
    {
     "name": "stdout",
     "output_type": "stream",
     "text": [
      "Model: \"sequential_4\"\n",
      "_________________________________________________________________\n",
      "Layer (type)                 Output Shape              Param #   \n",
      "=================================================================\n",
      "batch_normalization_7 (Batch (None, 300, 300, 3)       12        \n",
      "_________________________________________________________________\n",
      "mobilenet_1.00_300 (Model)   (None, 9, 9, 1024)        3228864   \n",
      "_________________________________________________________________\n",
      "batch_normalization_8 (Batch (None, 9, 9, 1024)        4096      \n",
      "_________________________________________________________________\n",
      "global_average_pooling2d_4 ( (None, 1024)              0         \n",
      "_________________________________________________________________\n",
      "dropout_4 (Dropout)          (None, 1024)              0         \n",
      "_________________________________________________________________\n",
      "dense_4 (Dense)              (None, 2)                 2050      \n",
      "=================================================================\n",
      "Total params: 3,235,022\n",
      "Trainable params: 3,211,080\n",
      "Non-trainable params: 23,942\n",
      "_________________________________________________________________\n"
     ]
    }
   ],
   "source": [
    "modelf = model()"
   ]
  },
  {
   "cell_type": "code",
   "execution_count": 19,
   "metadata": {},
   "outputs": [
    {
     "name": "stdout",
     "output_type": "stream",
     "text": [
      "> 50.000\n"
     ]
    }
   ],
   "source": [
    "history = modelf.fit_generator(train_it, steps_per_epoch=len(train_it),\n",
    "\t\tvalidation_data=test_it, validation_steps=len(test_it), epochs=5, verbose=0)\n",
    "\n",
    "_, acc = modelf.evaluate_generator(test_it, steps=len(test_it), verbose=0)\n",
    "\n",
    "print('> %.3f' % (acc * 100.0))"
   ]
  },
  {
   "cell_type": "code",
   "execution_count": 20,
   "metadata": {},
   "outputs": [],
   "source": [
    "modelf.save('liver_mobile.h5')"
   ]
  },
  {
   "cell_type": "code",
   "execution_count": 21,
   "metadata": {},
   "outputs": [],
   "source": [
    "import tensorflow as tf \n",
    "model=tf.keras.models.load_model('liver_mobile.h5')\n",
    "converter=tf.lite.TFLiteConverter.from_keras_model(model)\n"
   ]
  },
  {
   "cell_type": "code",
   "execution_count": 22,
   "metadata": {},
   "outputs": [
    {
     "data": {
      "text/plain": [
       "12816704"
      ]
     },
     "execution_count": 22,
     "metadata": {},
     "output_type": "execute_result"
    }
   ],
   "source": [
    "tflite_model=converter.convert()\n",
    "file=open('liver_mnet.tflite','wb')\n",
    "file.write(tflite_model)"
   ]
  },
  {
   "cell_type": "code",
   "execution_count": 25,
   "metadata": {},
   "outputs": [],
   "source": [
    "from keras.preprocessing.image import load_img\n",
    "from keras.preprocessing.image import img_to_array\n",
    "img=load_img('V:\\\\V_Drive\\\\DATA\\\\liver_binary\\\\binary_data_liver\\\\abnormal/grade2-001.jpg',target_size=(300, 300))\n",
    "img=img_to_array(img)\n",
    "img=img.reshape(1, 300, 300,3)\n",
    "img = img.astype('float32')\n",
    "img = img - [123.68, 116.779, 103.939]"
   ]
  },
  {
   "cell_type": "code",
   "execution_count": null,
   "metadata": {},
   "outputs": [],
   "source": [
    "result = model.predict(img)\n",
    "if(result[0][0]>result[0][1]):\n",
    "    print(\"Abnormal\")\n",
    "else:\n",
    "      print(\"normal\")"
   ]
  }
 ],
 "metadata": {
  "kernelspec": {
   "display_name": "Python 3",
   "language": "python",
   "name": "python3"
  },
  "language_info": {
   "codemirror_mode": {
    "name": "ipython",
    "version": 3
   },
   "file_extension": ".py",
   "mimetype": "text/x-python",
   "name": "python",
   "nbconvert_exporter": "python",
   "pygments_lexer": "ipython3",
   "version": "3.6.10"
  }
 },
 "nbformat": 4,
 "nbformat_minor": 4
}
