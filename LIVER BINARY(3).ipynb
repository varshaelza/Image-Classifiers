{
 "cells": [
  {
   "cell_type": "code",
   "execution_count": 1,
   "metadata": {},
   "outputs": [],
   "source": [
    "import os\n"
   ]
  },
  {
   "cell_type": "code",
   "execution_count": 9,
   "metadata": {},
   "outputs": [],
   "source": [
    "folder='V:\\\\V_Drive\\\\DATA\\\\liver_binary/'\n",
    "subdir=['train/','test/']\n",
    "for subd in subdir:\n",
    "    direct=['normal/','abnormal/']\n",
    "    for dire in direct:\n",
    "        os.makedirs(folder+subd+dire,exist_ok=True)\n",
    "        "
   ]
  },
  {
   "cell_type": "code",
   "execution_count": 14,
   "metadata": {},
   "outputs": [],
   "source": [
    "import shutil as s\n",
    "import os\n",
    "import random as r\n",
    "r.seed(1)\n",
    "val_ratio = 0.1\n",
    "dire=['normal','abnormal']\n",
    "for f in dire:\n",
    "    src_dir='V:\\\\V_Drive\\\\DATA\\\\liver_binary\\\\binary_data_liver/'+f\n",
    "    for file in os.listdir(src_dir):\n",
    "        src=src_dir+'/'+file\n",
    "        dest='V:\\\\V_Drive\\\\DATA\\\\liver_binary/train/'+f\n",
    "        if r.random() < val_ratio:\n",
    "            dest = 'V:\\\\V_Drive\\\\DATA\\\\liver_binary/test/'+f\n",
    "        dst = dest +'/' +file\n",
    "        s.copyfile(src, dst)\n",
    "    "
   ]
  },
  {
   "cell_type": "code",
   "execution_count": 59,
   "metadata": {},
   "outputs": [
    {
     "name": "stdout",
     "output_type": "stream",
     "text": [
      "Found 136 images belonging to 2 classes.\n",
      "Found 20 images belonging to 2 classes.\n"
     ]
    }
   ],
   "source": [
    "from keras.preprocessing.image import ImageDataGenerator\n",
    "gen = ImageDataGenerator(rescale=1.0/255.0)\n",
    "train_it=gen.flow_from_directory('V:\\\\V_Drive\\\\DATA\\\\liver_binary/train/',\n",
    "\t\tclass_mode='categorical',classes=['abnormal','normal'], batch_size=5, target_size=(300, 300))\n",
    "\n",
    "test_it = gen.flow_from_directory('V:\\\\V_Drive\\\\DATA\\\\liver_binary/test/',\n",
    "\t\tclass_mode='categorical',classes=['abnormal','normal'], batch_size=5, target_size=(300, 300))"
   ]
  },
  {
   "cell_type": "code",
   "execution_count": 60,
   "metadata": {},
   "outputs": [],
   "source": [
    "from keras.models import Sequential\n",
    "from keras.layers import Conv2D\n",
    "from keras.layers import MaxPooling2D\n",
    "from keras.layers import Dense\n",
    "from keras.layers import Flatten\n",
    "from keras.optimizers import SGD\n",
    "def define_model():\n",
    "    model = Sequential()\n",
    "    model.add(Conv2D(32, (3, 3), activation='relu', kernel_initializer='he_uniform', padding='same', input_shape=(300, 300, 3)))\n",
    "    model.add(MaxPooling2D((2, 2)))\n",
    "    model.add(Flatten())\n",
    "    model.add(Dense(128, activation='relu', kernel_initializer='he_uniform'))\n",
    "    model.add(Dense(2, activation='softmax'))\n",
    "    # compile model\n",
    "    opt = SGD(lr=0.001, momentum=0.9)\n",
    "    model.compile(optimizer=opt, loss='categorical_crossentropy', metrics=['accuracy'])\n",
    "    return model\n"
   ]
  },
  {
   "cell_type": "code",
   "execution_count": 61,
   "metadata": {},
   "outputs": [],
   "source": [
    "model = define_model()"
   ]
  },
  {
   "cell_type": "code",
   "execution_count": 62,
   "metadata": {},
   "outputs": [
    {
     "name": "stdout",
     "output_type": "stream",
     "text": [
      "> 75.000\n"
     ]
    }
   ],
   "source": [
    "history = model.fit_generator(train_it, steps_per_epoch=len(train_it),\n",
    "\t\tvalidation_data=test_it, validation_steps=len(test_it), epochs=5, verbose=0)\n",
    "\n",
    "_, acc = model.evaluate_generator(test_it, steps=len(test_it), verbose=0)\n",
    "\n",
    "print('> %.3f' % (acc * 100.0))"
   ]
  },
  {
   "cell_type": "code",
   "execution_count": 76,
   "metadata": {},
   "outputs": [],
   "source": [
    "model.save('liver_mult.h5')"
   ]
  },
  {
   "cell_type": "code",
   "execution_count": 17,
   "metadata": {},
   "outputs": [],
   "source": [
    "from keras.preprocessing.image import load_img\n",
    "from keras.preprocessing.image import img_to_array\n",
    "img=load_img('V:\\\\V_Drive\\\\DATA\\\\liver_binary\\\\binary_data_liver\\\\abnormal/grade2-001.jpg',target_size=(300, 300))\n",
    "img=img_to_array(img)\n",
    "img=img.reshape(1, 300, 300,3)\n",
    "img = img.astype('float32')\n",
    "img = img - [123.68, 116.779, 103.939]"
   ]
  },
  {
   "cell_type": "code",
   "execution_count": 18,
   "metadata": {},
   "outputs": [
    {
     "name": "stdout",
     "output_type": "stream",
     "text": [
      "Abnormal\n"
     ]
    }
   ],
   "source": [
    "result = model.predict(img)\n",
    "if(result[0][0]>result[0][1]):\n",
    "    print(\"Abnormal\")\n",
    "else:\n",
    "      print(\"normal\")"
   ]
  },
  {
   "cell_type": "code",
   "execution_count": null,
   "metadata": {},
   "outputs": [],
   "source": [
    "import tensorflow as tf \n",
    "model=tf.keras.models.load_model('liver_mult.h5')\n",
    "converter=tf.lite.TFLiteConverter.from_keras_model(model)\n",
    "tflite_model=converter.convert()\n",
    "file=open('liver_mtf.tflite','wb')\n",
    "file.write(tflite_model)"
   ]
  },
  {
   "cell_type": "code",
   "execution_count": 21,
   "metadata": {},
   "outputs": [],
   "source": [
    "import keras\n",
    "model=keras.models.load_model('liver_mult.h5')"
   ]
  },
  {
   "cell_type": "code",
   "execution_count": 19,
   "metadata": {},
   "outputs": [
    {
     "data": {
      "text/plain": [
       "numpy.ndarray"
      ]
     },
     "execution_count": 19,
     "metadata": {},
     "output_type": "execute_result"
    }
   ],
   "source": [
    "type(result)"
   ]
  },
  {
   "cell_type": "code",
   "execution_count": 4,
   "metadata": {},
   "outputs": [],
   "source": [
    "# Load TFLite model and allocate tensors.\n",
    "import tensorflow as tf\n",
    "interpreter = tf.lite.Interpreter(model_path=\"model.tflite\") \n",
    "interpreter.allocate_tensors()\n",
    "# Get input and output tensors\n",
    "input_details = interpreter.get_input_details()\n",
    "output_details = interpreter.get_output_details()"
   ]
  },
  {
   "cell_type": "code",
   "execution_count": 7,
   "metadata": {},
   "outputs": [
    {
     "name": "stdout",
     "output_type": "stream",
     "text": [
      "[[0.9999825]]\n"
     ]
    }
   ],
   "source": [
    "import numpy as np\n",
    "input_shape = input_details[0]['shape']\n",
    "input_data = np.array(np.random.random_sample(input_shape), dtype=np.float32)\n",
    "interpreter.set_tensor(input_details[0]['index'], input_data)\n",
    "interpreter.invoke()\n",
    "output_data = interpreter.get_tensor(output_details[0]['index'])\n",
    "print(output_data)"
   ]
  },
  {
   "cell_type": "code",
   "execution_count": null,
   "metadata": {},
   "outputs": [],
   "source": []
  }
 ],
 "metadata": {
  "kernelspec": {
   "display_name": "Python 3",
   "language": "python",
   "name": "python3"
  },
  "language_info": {
   "codemirror_mode": {
    "name": "ipython",
    "version": 3
   },
   "file_extension": ".py",
   "mimetype": "text/x-python",
   "name": "python",
   "nbconvert_exporter": "python",
   "pygments_lexer": "ipython3",
   "version": "3.6.10"
  }
 },
 "nbformat": 4,
 "nbformat_minor": 2
}
